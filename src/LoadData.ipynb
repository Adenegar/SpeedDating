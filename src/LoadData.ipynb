{
 "cells": [
  {
   "cell_type": "markdown",
   "source": [
    "### Install Package dependencies\n",
    "\n",
    "*If you haven't already, install kagglehub, python >= 3.9 and typing_extensions >= 4.10.0\n",
    "\n",
    "pip install kagglehub\n",
    "pip install typing_extensions"
   ],
   "metadata": {
    "collapsed": false
   }
  },
  {
   "cell_type": "code",
   "execution_count": 6,
   "metadata": {
    "ExecuteTime": {
     "end_time": "2025-02-01T21:30:28.775457300Z",
     "start_time": "2025-02-01T21:30:28.087440200Z"
    }
   },
   "outputs": [
    {
     "name": "stdout",
     "output_type": "stream",
     "text": [
      "Path to dataset files: C:\\Users\\coleo\\.cache\\kagglehub\\datasets\\annavictoria\\speed-dating-experiment\\versions\\1\n"
     ]
    }
   ],
   "source": [
    "import kagglehub\n",
    "\n",
    "# Download latest version\n",
    "path = kagglehub.dataset_download(\"annavictoria/speed-dating-experiment\")\n",
    "\n",
    "print(\"Path to dataset files:\", path)"
   ]
  },
  {
   "cell_type": "code",
   "execution_count": 7,
   "metadata": {
    "ExecuteTime": {
     "end_time": "2025-02-01T21:30:31.852993Z",
     "start_time": "2025-02-01T21:30:31.820950200Z"
    }
   },
   "outputs": [],
   "source": [
    "import os\n",
    "import shutil\n",
    "\n",
    "def copy_to_data_dir(source_path, dataset_name):\n",
    "    \"\"\"\n",
    "    Copy data from source path to data/dataset_name directory\n",
    "    \n",
    "    Args:\n",
    "        source_path (str): Path to source file/directory\n",
    "        dataset_name (str): Name of dataset folder to create\n",
    "    \"\"\"\n",
    "    # Create target directory\n",
    "    target_dir = os.path.join('../data', dataset_name)\n",
    "    os.makedirs(target_dir, exist_ok=True)\n",
    "    \n",
    "    # Copy file/directory\n",
    "    if os.path.isfile(source_path):\n",
    "        shutil.copy2(source_path, target_dir)\n",
    "    else:\n",
    "        shutil.copytree(source_path, target_dir, dirs_exist_ok=True)\n",
    "\n",
    "# Example usage\n",
    "copy_to_data_dir(path, \"\")"
   ]
  },
  {
   "cell_type": "code",
   "execution_count": 8,
   "metadata": {
    "ExecuteTime": {
     "end_time": "2025-02-01T21:30:38.984862500Z",
     "start_time": "2025-02-01T21:30:38.703263600Z"
    }
   },
   "outputs": [
    {
     "data": {
      "text/plain": "Index(['iid', 'id', 'gender', 'idg', 'condtn', 'wave', 'round', 'position',\n       'positin1', 'order',\n       ...\n       'attr3_3', 'sinc3_3', 'intel3_3', 'fun3_3', 'amb3_3', 'attr5_3',\n       'sinc5_3', 'intel5_3', 'fun5_3', 'amb5_3'],\n      dtype='object', length=195)"
     },
     "execution_count": 8,
     "metadata": {},
     "output_type": "execute_result"
    }
   ],
   "source": [
    "# Read the data\n",
    "import pandas as pd\n",
    "\n",
    "df = pd.read_csv(\"../data/Speed Dating Data.csv\", encoding=\"ISO-8859-1\")\n",
    "\n",
    "df.columns"
   ]
  }
 ],
 "metadata": {
  "kernelspec": {
   "display_name": "Python 3",
   "language": "python",
   "name": "python3"
  },
  "language_info": {
   "codemirror_mode": {
    "name": "ipython",
    "version": 3
   },
   "file_extension": ".py",
   "mimetype": "text/x-python",
   "name": "python",
   "nbconvert_exporter": "python",
   "pygments_lexer": "ipython3",
   "version": "3.10.15"
  }
 },
 "nbformat": 4,
 "nbformat_minor": 2
}
